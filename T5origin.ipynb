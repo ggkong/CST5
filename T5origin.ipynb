{
 "cells": [
  {
   "cell_type": "code",
   "execution_count": 1,
   "metadata": {
    "collapsed": true,
    "ExecuteTime": {
     "end_time": "2024-01-24T07:57:44.995139Z",
     "start_time": "2024-01-24T07:57:42.686686Z"
    }
   },
   "outputs": [],
   "source": [
    "import pandas as pd"
   ]
  },
  {
   "cell_type": "code",
   "execution_count": 2,
   "outputs": [],
   "source": [
    "K_neg_feature = pd.read_csv(\"/home/kongge/projects/carsiteLinux/data/26995K_neg_df.csv\")"
   ],
   "metadata": {
    "collapsed": false,
    "ExecuteTime": {
     "end_time": "2024-01-24T07:57:54.779756Z",
     "start_time": "2024-01-24T07:57:49.505394Z"
    }
   }
  },
  {
   "cell_type": "code",
   "execution_count": 3,
   "outputs": [
    {
     "data": {
      "text/plain": "       Unnamed: 0         1         2         3         4         5         6  \\\n0               0  0.072277  0.044066 -0.055483 -0.015559 -0.007784 -0.008024   \n1               1  0.154528  0.067479 -0.028890 -0.082040 -0.018210 -0.015276   \n2               2  0.080011  0.049659 -0.083784 -0.026146  0.017643 -0.032859   \n3               3  0.105412  0.058322 -0.059803 -0.045544  0.033271 -0.035058   \n4               4  0.034482  0.084177 -0.005790  0.031857  0.040452  0.000039   \n...           ...       ...       ...       ...       ...       ...       ...   \n26990       26990  0.098486  0.088853 -0.037835  0.003361  0.063498  0.007424   \n26991       26991  0.071403  0.041933 -0.072913 -0.057438  0.053242  0.031240   \n26992       26992  0.079193  0.133584 -0.008277 -0.070901 -0.027032  0.030401   \n26993       26993  0.062318  0.017251  0.005729 -0.045289 -0.022365  0.065160   \n26994       26994  0.067348 -0.038959 -0.022787 -0.062009  0.031355 -0.009164   \n\n              7         8         9  ...      1015      1016      1017  \\\n0     -0.034502 -0.047359  0.019642  ...  0.013696  0.027653 -0.009220   \n1     -0.037956 -0.057195  0.019206  ... -0.003884  0.070616  0.037604   \n2     -0.025559 -0.088216 -0.006812  ...  0.001057 -0.065526  0.070194   \n3     -0.064580 -0.036346  0.021493  ... -0.038333  0.008967  0.034687   \n4     -0.101902 -0.165054 -0.152446  ... -0.054444  0.024632 -0.028166   \n...         ...       ...       ...  ...       ...       ...       ...   \n26990 -0.092991 -0.020758 -0.038182  ... -0.022816  0.018359 -0.001666   \n26991 -0.012613 -0.068559  0.054691  ... -0.019658 -0.006556  0.027266   \n26992 -0.054506 -0.066861 -0.033710  ...  0.000569  0.039144  0.025821   \n26993 -0.000180 -0.095808  0.061831  ... -0.004482  0.101957  0.027510   \n26994 -0.062491 -0.088384 -0.054517  ... -0.018229  0.038477  0.091520   \n\n           1018      1019      1020      1021      1022      1023      1024  \n0     -0.117224 -0.024505 -0.020211 -0.066921  0.064636  0.018093 -0.035772  \n1     -0.069988  0.037111 -0.044092 -0.046054  0.027657 -0.025392 -0.038702  \n2     -0.185102 -0.022748 -0.009516 -0.047343  0.100120  0.033311 -0.007169  \n3     -0.122578 -0.031719 -0.003317 -0.040708  0.065339  0.050137  0.015973  \n4     -0.215564 -0.009509 -0.096809 -0.028144  0.176513 -0.000940  0.084262  \n...         ...       ...       ...       ...       ...       ...       ...  \n26990 -0.104142 -0.002567 -0.034314 -0.022658  0.019514 -0.027467 -0.017643  \n26991 -0.119164  0.067799 -0.033114 -0.026850  0.026912 -0.012444 -0.065456  \n26992 -0.097194 -0.029425 -0.065729 -0.034672  0.096773 -0.022264  0.054233  \n26993 -0.113784 -0.121483  0.044399  0.029965  0.122596 -0.014552 -0.064757  \n26994 -0.091387 -0.130647 -0.045598  0.035948  0.134672  0.024764 -0.050316  \n\n[26995 rows x 1025 columns]",
      "text/html": "<div>\n<style scoped>\n    .dataframe tbody tr th:only-of-type {\n        vertical-align: middle;\n    }\n\n    .dataframe tbody tr th {\n        vertical-align: top;\n    }\n\n    .dataframe thead th {\n        text-align: right;\n    }\n</style>\n<table border=\"1\" class=\"dataframe\">\n  <thead>\n    <tr style=\"text-align: right;\">\n      <th></th>\n      <th>Unnamed: 0</th>\n      <th>1</th>\n      <th>2</th>\n      <th>3</th>\n      <th>4</th>\n      <th>5</th>\n      <th>6</th>\n      <th>7</th>\n      <th>8</th>\n      <th>9</th>\n      <th>...</th>\n      <th>1015</th>\n      <th>1016</th>\n      <th>1017</th>\n      <th>1018</th>\n      <th>1019</th>\n      <th>1020</th>\n      <th>1021</th>\n      <th>1022</th>\n      <th>1023</th>\n      <th>1024</th>\n    </tr>\n  </thead>\n  <tbody>\n    <tr>\n      <th>0</th>\n      <td>0</td>\n      <td>0.072277</td>\n      <td>0.044066</td>\n      <td>-0.055483</td>\n      <td>-0.015559</td>\n      <td>-0.007784</td>\n      <td>-0.008024</td>\n      <td>-0.034502</td>\n      <td>-0.047359</td>\n      <td>0.019642</td>\n      <td>...</td>\n      <td>0.013696</td>\n      <td>0.027653</td>\n      <td>-0.009220</td>\n      <td>-0.117224</td>\n      <td>-0.024505</td>\n      <td>-0.020211</td>\n      <td>-0.066921</td>\n      <td>0.064636</td>\n      <td>0.018093</td>\n      <td>-0.035772</td>\n    </tr>\n    <tr>\n      <th>1</th>\n      <td>1</td>\n      <td>0.154528</td>\n      <td>0.067479</td>\n      <td>-0.028890</td>\n      <td>-0.082040</td>\n      <td>-0.018210</td>\n      <td>-0.015276</td>\n      <td>-0.037956</td>\n      <td>-0.057195</td>\n      <td>0.019206</td>\n      <td>...</td>\n      <td>-0.003884</td>\n      <td>0.070616</td>\n      <td>0.037604</td>\n      <td>-0.069988</td>\n      <td>0.037111</td>\n      <td>-0.044092</td>\n      <td>-0.046054</td>\n      <td>0.027657</td>\n      <td>-0.025392</td>\n      <td>-0.038702</td>\n    </tr>\n    <tr>\n      <th>2</th>\n      <td>2</td>\n      <td>0.080011</td>\n      <td>0.049659</td>\n      <td>-0.083784</td>\n      <td>-0.026146</td>\n      <td>0.017643</td>\n      <td>-0.032859</td>\n      <td>-0.025559</td>\n      <td>-0.088216</td>\n      <td>-0.006812</td>\n      <td>...</td>\n      <td>0.001057</td>\n      <td>-0.065526</td>\n      <td>0.070194</td>\n      <td>-0.185102</td>\n      <td>-0.022748</td>\n      <td>-0.009516</td>\n      <td>-0.047343</td>\n      <td>0.100120</td>\n      <td>0.033311</td>\n      <td>-0.007169</td>\n    </tr>\n    <tr>\n      <th>3</th>\n      <td>3</td>\n      <td>0.105412</td>\n      <td>0.058322</td>\n      <td>-0.059803</td>\n      <td>-0.045544</td>\n      <td>0.033271</td>\n      <td>-0.035058</td>\n      <td>-0.064580</td>\n      <td>-0.036346</td>\n      <td>0.021493</td>\n      <td>...</td>\n      <td>-0.038333</td>\n      <td>0.008967</td>\n      <td>0.034687</td>\n      <td>-0.122578</td>\n      <td>-0.031719</td>\n      <td>-0.003317</td>\n      <td>-0.040708</td>\n      <td>0.065339</td>\n      <td>0.050137</td>\n      <td>0.015973</td>\n    </tr>\n    <tr>\n      <th>4</th>\n      <td>4</td>\n      <td>0.034482</td>\n      <td>0.084177</td>\n      <td>-0.005790</td>\n      <td>0.031857</td>\n      <td>0.040452</td>\n      <td>0.000039</td>\n      <td>-0.101902</td>\n      <td>-0.165054</td>\n      <td>-0.152446</td>\n      <td>...</td>\n      <td>-0.054444</td>\n      <td>0.024632</td>\n      <td>-0.028166</td>\n      <td>-0.215564</td>\n      <td>-0.009509</td>\n      <td>-0.096809</td>\n      <td>-0.028144</td>\n      <td>0.176513</td>\n      <td>-0.000940</td>\n      <td>0.084262</td>\n    </tr>\n    <tr>\n      <th>...</th>\n      <td>...</td>\n      <td>...</td>\n      <td>...</td>\n      <td>...</td>\n      <td>...</td>\n      <td>...</td>\n      <td>...</td>\n      <td>...</td>\n      <td>...</td>\n      <td>...</td>\n      <td>...</td>\n      <td>...</td>\n      <td>...</td>\n      <td>...</td>\n      <td>...</td>\n      <td>...</td>\n      <td>...</td>\n      <td>...</td>\n      <td>...</td>\n      <td>...</td>\n      <td>...</td>\n    </tr>\n    <tr>\n      <th>26990</th>\n      <td>26990</td>\n      <td>0.098486</td>\n      <td>0.088853</td>\n      <td>-0.037835</td>\n      <td>0.003361</td>\n      <td>0.063498</td>\n      <td>0.007424</td>\n      <td>-0.092991</td>\n      <td>-0.020758</td>\n      <td>-0.038182</td>\n      <td>...</td>\n      <td>-0.022816</td>\n      <td>0.018359</td>\n      <td>-0.001666</td>\n      <td>-0.104142</td>\n      <td>-0.002567</td>\n      <td>-0.034314</td>\n      <td>-0.022658</td>\n      <td>0.019514</td>\n      <td>-0.027467</td>\n      <td>-0.017643</td>\n    </tr>\n    <tr>\n      <th>26991</th>\n      <td>26991</td>\n      <td>0.071403</td>\n      <td>0.041933</td>\n      <td>-0.072913</td>\n      <td>-0.057438</td>\n      <td>0.053242</td>\n      <td>0.031240</td>\n      <td>-0.012613</td>\n      <td>-0.068559</td>\n      <td>0.054691</td>\n      <td>...</td>\n      <td>-0.019658</td>\n      <td>-0.006556</td>\n      <td>0.027266</td>\n      <td>-0.119164</td>\n      <td>0.067799</td>\n      <td>-0.033114</td>\n      <td>-0.026850</td>\n      <td>0.026912</td>\n      <td>-0.012444</td>\n      <td>-0.065456</td>\n    </tr>\n    <tr>\n      <th>26992</th>\n      <td>26992</td>\n      <td>0.079193</td>\n      <td>0.133584</td>\n      <td>-0.008277</td>\n      <td>-0.070901</td>\n      <td>-0.027032</td>\n      <td>0.030401</td>\n      <td>-0.054506</td>\n      <td>-0.066861</td>\n      <td>-0.033710</td>\n      <td>...</td>\n      <td>0.000569</td>\n      <td>0.039144</td>\n      <td>0.025821</td>\n      <td>-0.097194</td>\n      <td>-0.029425</td>\n      <td>-0.065729</td>\n      <td>-0.034672</td>\n      <td>0.096773</td>\n      <td>-0.022264</td>\n      <td>0.054233</td>\n    </tr>\n    <tr>\n      <th>26993</th>\n      <td>26993</td>\n      <td>0.062318</td>\n      <td>0.017251</td>\n      <td>0.005729</td>\n      <td>-0.045289</td>\n      <td>-0.022365</td>\n      <td>0.065160</td>\n      <td>-0.000180</td>\n      <td>-0.095808</td>\n      <td>0.061831</td>\n      <td>...</td>\n      <td>-0.004482</td>\n      <td>0.101957</td>\n      <td>0.027510</td>\n      <td>-0.113784</td>\n      <td>-0.121483</td>\n      <td>0.044399</td>\n      <td>0.029965</td>\n      <td>0.122596</td>\n      <td>-0.014552</td>\n      <td>-0.064757</td>\n    </tr>\n    <tr>\n      <th>26994</th>\n      <td>26994</td>\n      <td>0.067348</td>\n      <td>-0.038959</td>\n      <td>-0.022787</td>\n      <td>-0.062009</td>\n      <td>0.031355</td>\n      <td>-0.009164</td>\n      <td>-0.062491</td>\n      <td>-0.088384</td>\n      <td>-0.054517</td>\n      <td>...</td>\n      <td>-0.018229</td>\n      <td>0.038477</td>\n      <td>0.091520</td>\n      <td>-0.091387</td>\n      <td>-0.130647</td>\n      <td>-0.045598</td>\n      <td>0.035948</td>\n      <td>0.134672</td>\n      <td>0.024764</td>\n      <td>-0.050316</td>\n    </tr>\n  </tbody>\n</table>\n<p>26995 rows × 1025 columns</p>\n</div>"
     },
     "execution_count": 3,
     "metadata": {},
     "output_type": "execute_result"
    }
   ],
   "source": [
    "K_neg_feature"
   ],
   "metadata": {
    "collapsed": false,
    "ExecuteTime": {
     "end_time": "2024-01-24T07:58:00.048855Z",
     "start_time": "2024-01-24T07:57:59.999925Z"
    }
   }
  },
  {
   "cell_type": "code",
   "execution_count": 4,
   "outputs": [],
   "source": [
    "K_neg_feature = K_neg_feature.iloc[:, 1:]"
   ],
   "metadata": {
    "collapsed": false,
    "ExecuteTime": {
     "end_time": "2024-01-24T07:58:09.590986Z",
     "start_time": "2024-01-24T07:58:09.380786Z"
    }
   }
  },
  {
   "cell_type": "code",
   "execution_count": 5,
   "outputs": [
    {
     "data": {
      "text/plain": "              1         2         3         4         5         6         7  \\\n0      0.072277  0.044066 -0.055483 -0.015559 -0.007784 -0.008024 -0.034502   \n1      0.154528  0.067479 -0.028890 -0.082040 -0.018210 -0.015276 -0.037956   \n2      0.080011  0.049659 -0.083784 -0.026146  0.017643 -0.032859 -0.025559   \n3      0.105412  0.058322 -0.059803 -0.045544  0.033271 -0.035058 -0.064580   \n4      0.034482  0.084177 -0.005790  0.031857  0.040452  0.000039 -0.101902   \n...         ...       ...       ...       ...       ...       ...       ...   \n26990  0.098486  0.088853 -0.037835  0.003361  0.063498  0.007424 -0.092991   \n26991  0.071403  0.041933 -0.072913 -0.057438  0.053242  0.031240 -0.012613   \n26992  0.079193  0.133584 -0.008277 -0.070901 -0.027032  0.030401 -0.054506   \n26993  0.062318  0.017251  0.005729 -0.045289 -0.022365  0.065160 -0.000180   \n26994  0.067348 -0.038959 -0.022787 -0.062009  0.031355 -0.009164 -0.062491   \n\n              8         9        10  ...      1015      1016      1017  \\\n0     -0.047359  0.019642 -0.033429  ...  0.013696  0.027653 -0.009220   \n1     -0.057195  0.019206  0.029159  ... -0.003884  0.070616  0.037604   \n2     -0.088216 -0.006812 -0.025042  ...  0.001057 -0.065526  0.070194   \n3     -0.036346  0.021493  0.096264  ... -0.038333  0.008967  0.034687   \n4     -0.165054 -0.152446  0.061893  ... -0.054444  0.024632 -0.028166   \n...         ...       ...       ...  ...       ...       ...       ...   \n26990 -0.020758 -0.038182  0.072172  ... -0.022816  0.018359 -0.001666   \n26991 -0.068559  0.054691  0.020997  ... -0.019658 -0.006556  0.027266   \n26992 -0.066861 -0.033710  0.005780  ...  0.000569  0.039144  0.025821   \n26993 -0.095808  0.061831  0.077503  ... -0.004482  0.101957  0.027510   \n26994 -0.088384 -0.054517  0.002513  ... -0.018229  0.038477  0.091520   \n\n           1018      1019      1020      1021      1022      1023      1024  \n0     -0.117224 -0.024505 -0.020211 -0.066921  0.064636  0.018093 -0.035772  \n1     -0.069988  0.037111 -0.044092 -0.046054  0.027657 -0.025392 -0.038702  \n2     -0.185102 -0.022748 -0.009516 -0.047343  0.100120  0.033311 -0.007169  \n3     -0.122578 -0.031719 -0.003317 -0.040708  0.065339  0.050137  0.015973  \n4     -0.215564 -0.009509 -0.096809 -0.028144  0.176513 -0.000940  0.084262  \n...         ...       ...       ...       ...       ...       ...       ...  \n26990 -0.104142 -0.002567 -0.034314 -0.022658  0.019514 -0.027467 -0.017643  \n26991 -0.119164  0.067799 -0.033114 -0.026850  0.026912 -0.012444 -0.065456  \n26992 -0.097194 -0.029425 -0.065729 -0.034672  0.096773 -0.022264  0.054233  \n26993 -0.113784 -0.121483  0.044399  0.029965  0.122596 -0.014552 -0.064757  \n26994 -0.091387 -0.130647 -0.045598  0.035948  0.134672  0.024764 -0.050316  \n\n[26995 rows x 1024 columns]",
      "text/html": "<div>\n<style scoped>\n    .dataframe tbody tr th:only-of-type {\n        vertical-align: middle;\n    }\n\n    .dataframe tbody tr th {\n        vertical-align: top;\n    }\n\n    .dataframe thead th {\n        text-align: right;\n    }\n</style>\n<table border=\"1\" class=\"dataframe\">\n  <thead>\n    <tr style=\"text-align: right;\">\n      <th></th>\n      <th>1</th>\n      <th>2</th>\n      <th>3</th>\n      <th>4</th>\n      <th>5</th>\n      <th>6</th>\n      <th>7</th>\n      <th>8</th>\n      <th>9</th>\n      <th>10</th>\n      <th>...</th>\n      <th>1015</th>\n      <th>1016</th>\n      <th>1017</th>\n      <th>1018</th>\n      <th>1019</th>\n      <th>1020</th>\n      <th>1021</th>\n      <th>1022</th>\n      <th>1023</th>\n      <th>1024</th>\n    </tr>\n  </thead>\n  <tbody>\n    <tr>\n      <th>0</th>\n      <td>0.072277</td>\n      <td>0.044066</td>\n      <td>-0.055483</td>\n      <td>-0.015559</td>\n      <td>-0.007784</td>\n      <td>-0.008024</td>\n      <td>-0.034502</td>\n      <td>-0.047359</td>\n      <td>0.019642</td>\n      <td>-0.033429</td>\n      <td>...</td>\n      <td>0.013696</td>\n      <td>0.027653</td>\n      <td>-0.009220</td>\n      <td>-0.117224</td>\n      <td>-0.024505</td>\n      <td>-0.020211</td>\n      <td>-0.066921</td>\n      <td>0.064636</td>\n      <td>0.018093</td>\n      <td>-0.035772</td>\n    </tr>\n    <tr>\n      <th>1</th>\n      <td>0.154528</td>\n      <td>0.067479</td>\n      <td>-0.028890</td>\n      <td>-0.082040</td>\n      <td>-0.018210</td>\n      <td>-0.015276</td>\n      <td>-0.037956</td>\n      <td>-0.057195</td>\n      <td>0.019206</td>\n      <td>0.029159</td>\n      <td>...</td>\n      <td>-0.003884</td>\n      <td>0.070616</td>\n      <td>0.037604</td>\n      <td>-0.069988</td>\n      <td>0.037111</td>\n      <td>-0.044092</td>\n      <td>-0.046054</td>\n      <td>0.027657</td>\n      <td>-0.025392</td>\n      <td>-0.038702</td>\n    </tr>\n    <tr>\n      <th>2</th>\n      <td>0.080011</td>\n      <td>0.049659</td>\n      <td>-0.083784</td>\n      <td>-0.026146</td>\n      <td>0.017643</td>\n      <td>-0.032859</td>\n      <td>-0.025559</td>\n      <td>-0.088216</td>\n      <td>-0.006812</td>\n      <td>-0.025042</td>\n      <td>...</td>\n      <td>0.001057</td>\n      <td>-0.065526</td>\n      <td>0.070194</td>\n      <td>-0.185102</td>\n      <td>-0.022748</td>\n      <td>-0.009516</td>\n      <td>-0.047343</td>\n      <td>0.100120</td>\n      <td>0.033311</td>\n      <td>-0.007169</td>\n    </tr>\n    <tr>\n      <th>3</th>\n      <td>0.105412</td>\n      <td>0.058322</td>\n      <td>-0.059803</td>\n      <td>-0.045544</td>\n      <td>0.033271</td>\n      <td>-0.035058</td>\n      <td>-0.064580</td>\n      <td>-0.036346</td>\n      <td>0.021493</td>\n      <td>0.096264</td>\n      <td>...</td>\n      <td>-0.038333</td>\n      <td>0.008967</td>\n      <td>0.034687</td>\n      <td>-0.122578</td>\n      <td>-0.031719</td>\n      <td>-0.003317</td>\n      <td>-0.040708</td>\n      <td>0.065339</td>\n      <td>0.050137</td>\n      <td>0.015973</td>\n    </tr>\n    <tr>\n      <th>4</th>\n      <td>0.034482</td>\n      <td>0.084177</td>\n      <td>-0.005790</td>\n      <td>0.031857</td>\n      <td>0.040452</td>\n      <td>0.000039</td>\n      <td>-0.101902</td>\n      <td>-0.165054</td>\n      <td>-0.152446</td>\n      <td>0.061893</td>\n      <td>...</td>\n      <td>-0.054444</td>\n      <td>0.024632</td>\n      <td>-0.028166</td>\n      <td>-0.215564</td>\n      <td>-0.009509</td>\n      <td>-0.096809</td>\n      <td>-0.028144</td>\n      <td>0.176513</td>\n      <td>-0.000940</td>\n      <td>0.084262</td>\n    </tr>\n    <tr>\n      <th>...</th>\n      <td>...</td>\n      <td>...</td>\n      <td>...</td>\n      <td>...</td>\n      <td>...</td>\n      <td>...</td>\n      <td>...</td>\n      <td>...</td>\n      <td>...</td>\n      <td>...</td>\n      <td>...</td>\n      <td>...</td>\n      <td>...</td>\n      <td>...</td>\n      <td>...</td>\n      <td>...</td>\n      <td>...</td>\n      <td>...</td>\n      <td>...</td>\n      <td>...</td>\n      <td>...</td>\n    </tr>\n    <tr>\n      <th>26990</th>\n      <td>0.098486</td>\n      <td>0.088853</td>\n      <td>-0.037835</td>\n      <td>0.003361</td>\n      <td>0.063498</td>\n      <td>0.007424</td>\n      <td>-0.092991</td>\n      <td>-0.020758</td>\n      <td>-0.038182</td>\n      <td>0.072172</td>\n      <td>...</td>\n      <td>-0.022816</td>\n      <td>0.018359</td>\n      <td>-0.001666</td>\n      <td>-0.104142</td>\n      <td>-0.002567</td>\n      <td>-0.034314</td>\n      <td>-0.022658</td>\n      <td>0.019514</td>\n      <td>-0.027467</td>\n      <td>-0.017643</td>\n    </tr>\n    <tr>\n      <th>26991</th>\n      <td>0.071403</td>\n      <td>0.041933</td>\n      <td>-0.072913</td>\n      <td>-0.057438</td>\n      <td>0.053242</td>\n      <td>0.031240</td>\n      <td>-0.012613</td>\n      <td>-0.068559</td>\n      <td>0.054691</td>\n      <td>0.020997</td>\n      <td>...</td>\n      <td>-0.019658</td>\n      <td>-0.006556</td>\n      <td>0.027266</td>\n      <td>-0.119164</td>\n      <td>0.067799</td>\n      <td>-0.033114</td>\n      <td>-0.026850</td>\n      <td>0.026912</td>\n      <td>-0.012444</td>\n      <td>-0.065456</td>\n    </tr>\n    <tr>\n      <th>26992</th>\n      <td>0.079193</td>\n      <td>0.133584</td>\n      <td>-0.008277</td>\n      <td>-0.070901</td>\n      <td>-0.027032</td>\n      <td>0.030401</td>\n      <td>-0.054506</td>\n      <td>-0.066861</td>\n      <td>-0.033710</td>\n      <td>0.005780</td>\n      <td>...</td>\n      <td>0.000569</td>\n      <td>0.039144</td>\n      <td>0.025821</td>\n      <td>-0.097194</td>\n      <td>-0.029425</td>\n      <td>-0.065729</td>\n      <td>-0.034672</td>\n      <td>0.096773</td>\n      <td>-0.022264</td>\n      <td>0.054233</td>\n    </tr>\n    <tr>\n      <th>26993</th>\n      <td>0.062318</td>\n      <td>0.017251</td>\n      <td>0.005729</td>\n      <td>-0.045289</td>\n      <td>-0.022365</td>\n      <td>0.065160</td>\n      <td>-0.000180</td>\n      <td>-0.095808</td>\n      <td>0.061831</td>\n      <td>0.077503</td>\n      <td>...</td>\n      <td>-0.004482</td>\n      <td>0.101957</td>\n      <td>0.027510</td>\n      <td>-0.113784</td>\n      <td>-0.121483</td>\n      <td>0.044399</td>\n      <td>0.029965</td>\n      <td>0.122596</td>\n      <td>-0.014552</td>\n      <td>-0.064757</td>\n    </tr>\n    <tr>\n      <th>26994</th>\n      <td>0.067348</td>\n      <td>-0.038959</td>\n      <td>-0.022787</td>\n      <td>-0.062009</td>\n      <td>0.031355</td>\n      <td>-0.009164</td>\n      <td>-0.062491</td>\n      <td>-0.088384</td>\n      <td>-0.054517</td>\n      <td>0.002513</td>\n      <td>...</td>\n      <td>-0.018229</td>\n      <td>0.038477</td>\n      <td>0.091520</td>\n      <td>-0.091387</td>\n      <td>-0.130647</td>\n      <td>-0.045598</td>\n      <td>0.035948</td>\n      <td>0.134672</td>\n      <td>0.024764</td>\n      <td>-0.050316</td>\n    </tr>\n  </tbody>\n</table>\n<p>26995 rows × 1024 columns</p>\n</div>"
     },
     "execution_count": 5,
     "metadata": {},
     "output_type": "execute_result"
    }
   ],
   "source": [
    "K_neg_feature"
   ],
   "metadata": {
    "collapsed": false,
    "ExecuteTime": {
     "end_time": "2024-01-24T07:58:17.516804Z",
     "start_time": "2024-01-24T07:58:17.445500Z"
    }
   }
  },
  {
   "cell_type": "code",
   "execution_count": 6,
   "outputs": [],
   "source": [
    "K_pos_feature = pd.read_csv(\"/home/kongge/projects/carsiteLinux/data/618K_pos_df.csv\")\n"
   ],
   "metadata": {
    "collapsed": false,
    "ExecuteTime": {
     "end_time": "2024-01-24T07:58:24.951103Z",
     "start_time": "2024-01-24T07:58:24.787375Z"
    }
   }
  },
  {
   "cell_type": "code",
   "execution_count": 7,
   "outputs": [],
   "source": [
    "K_pos_feature = K_pos_feature.iloc[:, 1:]"
   ],
   "metadata": {
    "collapsed": false,
    "ExecuteTime": {
     "end_time": "2024-01-24T07:58:38.073020Z",
     "start_time": "2024-01-24T07:58:37.881891Z"
    }
   }
  },
  {
   "cell_type": "code",
   "execution_count": 8,
   "outputs": [],
   "source": [
    "all_K_feature = pd.concat([K_pos_feature, K_neg_feature], ignore_index=True)"
   ],
   "metadata": {
    "collapsed": false,
    "ExecuteTime": {
     "end_time": "2024-01-24T07:58:58.405527Z",
     "start_time": "2024-01-24T07:58:56.366159Z"
    }
   }
  },
  {
   "cell_type": "code",
   "execution_count": 9,
   "outputs": [],
   "source": [
    "import numpy as np"
   ],
   "metadata": {
    "collapsed": false,
    "ExecuteTime": {
     "end_time": "2024-01-24T07:59:05.366953Z",
     "start_time": "2024-01-24T07:59:05.361113Z"
    }
   }
  },
  {
   "cell_type": "code",
   "execution_count": 10,
   "outputs": [],
   "source": [
    "K_label = np.zeros(len(all_K_feature), dtype = int)"
   ],
   "metadata": {
    "collapsed": false,
    "ExecuteTime": {
     "end_time": "2024-01-24T07:59:14.985455Z",
     "start_time": "2024-01-24T07:59:14.931433Z"
    }
   }
  },
  {
   "cell_type": "code",
   "execution_count": 11,
   "outputs": [],
   "source": [
    "K_label[:618] = 1"
   ],
   "metadata": {
    "collapsed": false,
    "ExecuteTime": {
     "end_time": "2024-01-24T07:59:23.438839Z",
     "start_time": "2024-01-24T07:59:23.410038Z"
    }
   }
  },
  {
   "cell_type": "code",
   "execution_count": 12,
   "outputs": [
    {
     "data": {
      "text/plain": "              1         2         3         4         5         6         7  \\\n0      0.028125  0.075752  0.067243 -0.023053 -0.024122 -0.072126  0.024606   \n1      0.067704 -0.013677 -0.030560 -0.024717  0.010250  0.060558 -0.039600   \n2      0.049917 -0.043712 -0.063940 -0.097321 -0.020504  0.015204 -0.037296   \n3      0.041201  0.004419 -0.030011 -0.036695 -0.005606  0.097984 -0.036451   \n4      0.042343  0.056776 -0.059993 -0.050424  0.076268  0.084167 -0.066642   \n...         ...       ...       ...       ...       ...       ...       ...   \n27608  0.098486  0.088853 -0.037835  0.003361  0.063498  0.007424 -0.092991   \n27609  0.071403  0.041933 -0.072913 -0.057438  0.053242  0.031240 -0.012613   \n27610  0.079193  0.133584 -0.008277 -0.070901 -0.027032  0.030401 -0.054506   \n27611  0.062318  0.017251  0.005729 -0.045289 -0.022365  0.065160 -0.000180   \n27612  0.067348 -0.038959 -0.022787 -0.062009  0.031355 -0.009164 -0.062491   \n\n              8         9        10  ...      1015      1016      1017  \\\n0     -0.059940 -0.035291 -0.047713  ... -0.023184  0.048584 -0.142495   \n1     -0.046206  0.009073 -0.010894  ... -0.005488  0.027847  0.060269   \n2      0.023975 -0.023721 -0.011822  ...  0.010976  0.018527  0.013119   \n3      0.002179  0.050508  0.000850  ...  0.012886 -0.034827  0.055695   \n4     -0.075676  0.007183  0.004167  ... -0.047328  0.011887  0.045584   \n...         ...       ...       ...  ...       ...       ...       ...   \n27608 -0.020758 -0.038182  0.072172  ... -0.022816  0.018359 -0.001666   \n27609 -0.068559  0.054691  0.020997  ... -0.019658 -0.006556  0.027266   \n27610 -0.066861 -0.033710  0.005780  ...  0.000569  0.039144  0.025821   \n27611 -0.095808  0.061831  0.077503  ... -0.004482  0.101957  0.027510   \n27612 -0.088384 -0.054517  0.002513  ... -0.018229  0.038477  0.091520   \n\n           1018      1019      1020      1021      1022      1023      1024  \n0     -0.152805 -0.024861 -0.016566  0.060526  0.014325  0.008318 -0.091236  \n1     -0.123444 -0.022555 -0.035208  0.003671  0.081655 -0.028465 -0.068794  \n2     -0.109891 -0.024079  0.033356  0.018265  0.049510  0.013575 -0.025902  \n3     -0.097376 -0.037423  0.001463  0.034260  0.042551 -0.010804 -0.018562  \n4     -0.095344 -0.046187 -0.013920  0.058166  0.080757 -0.035608 -0.079485  \n...         ...       ...       ...       ...       ...       ...       ...  \n27608 -0.104142 -0.002567 -0.034314 -0.022658  0.019514 -0.027467 -0.017643  \n27609 -0.119164  0.067799 -0.033114 -0.026850  0.026912 -0.012444 -0.065456  \n27610 -0.097194 -0.029425 -0.065729 -0.034672  0.096773 -0.022264  0.054233  \n27611 -0.113784 -0.121483  0.044399  0.029965  0.122596 -0.014552 -0.064757  \n27612 -0.091387 -0.130647 -0.045598  0.035948  0.134672  0.024764 -0.050316  \n\n[27613 rows x 1024 columns]",
      "text/html": "<div>\n<style scoped>\n    .dataframe tbody tr th:only-of-type {\n        vertical-align: middle;\n    }\n\n    .dataframe tbody tr th {\n        vertical-align: top;\n    }\n\n    .dataframe thead th {\n        text-align: right;\n    }\n</style>\n<table border=\"1\" class=\"dataframe\">\n  <thead>\n    <tr style=\"text-align: right;\">\n      <th></th>\n      <th>1</th>\n      <th>2</th>\n      <th>3</th>\n      <th>4</th>\n      <th>5</th>\n      <th>6</th>\n      <th>7</th>\n      <th>8</th>\n      <th>9</th>\n      <th>10</th>\n      <th>...</th>\n      <th>1015</th>\n      <th>1016</th>\n      <th>1017</th>\n      <th>1018</th>\n      <th>1019</th>\n      <th>1020</th>\n      <th>1021</th>\n      <th>1022</th>\n      <th>1023</th>\n      <th>1024</th>\n    </tr>\n  </thead>\n  <tbody>\n    <tr>\n      <th>0</th>\n      <td>0.028125</td>\n      <td>0.075752</td>\n      <td>0.067243</td>\n      <td>-0.023053</td>\n      <td>-0.024122</td>\n      <td>-0.072126</td>\n      <td>0.024606</td>\n      <td>-0.059940</td>\n      <td>-0.035291</td>\n      <td>-0.047713</td>\n      <td>...</td>\n      <td>-0.023184</td>\n      <td>0.048584</td>\n      <td>-0.142495</td>\n      <td>-0.152805</td>\n      <td>-0.024861</td>\n      <td>-0.016566</td>\n      <td>0.060526</td>\n      <td>0.014325</td>\n      <td>0.008318</td>\n      <td>-0.091236</td>\n    </tr>\n    <tr>\n      <th>1</th>\n      <td>0.067704</td>\n      <td>-0.013677</td>\n      <td>-0.030560</td>\n      <td>-0.024717</td>\n      <td>0.010250</td>\n      <td>0.060558</td>\n      <td>-0.039600</td>\n      <td>-0.046206</td>\n      <td>0.009073</td>\n      <td>-0.010894</td>\n      <td>...</td>\n      <td>-0.005488</td>\n      <td>0.027847</td>\n      <td>0.060269</td>\n      <td>-0.123444</td>\n      <td>-0.022555</td>\n      <td>-0.035208</td>\n      <td>0.003671</td>\n      <td>0.081655</td>\n      <td>-0.028465</td>\n      <td>-0.068794</td>\n    </tr>\n    <tr>\n      <th>2</th>\n      <td>0.049917</td>\n      <td>-0.043712</td>\n      <td>-0.063940</td>\n      <td>-0.097321</td>\n      <td>-0.020504</td>\n      <td>0.015204</td>\n      <td>-0.037296</td>\n      <td>0.023975</td>\n      <td>-0.023721</td>\n      <td>-0.011822</td>\n      <td>...</td>\n      <td>0.010976</td>\n      <td>0.018527</td>\n      <td>0.013119</td>\n      <td>-0.109891</td>\n      <td>-0.024079</td>\n      <td>0.033356</td>\n      <td>0.018265</td>\n      <td>0.049510</td>\n      <td>0.013575</td>\n      <td>-0.025902</td>\n    </tr>\n    <tr>\n      <th>3</th>\n      <td>0.041201</td>\n      <td>0.004419</td>\n      <td>-0.030011</td>\n      <td>-0.036695</td>\n      <td>-0.005606</td>\n      <td>0.097984</td>\n      <td>-0.036451</td>\n      <td>0.002179</td>\n      <td>0.050508</td>\n      <td>0.000850</td>\n      <td>...</td>\n      <td>0.012886</td>\n      <td>-0.034827</td>\n      <td>0.055695</td>\n      <td>-0.097376</td>\n      <td>-0.037423</td>\n      <td>0.001463</td>\n      <td>0.034260</td>\n      <td>0.042551</td>\n      <td>-0.010804</td>\n      <td>-0.018562</td>\n    </tr>\n    <tr>\n      <th>4</th>\n      <td>0.042343</td>\n      <td>0.056776</td>\n      <td>-0.059993</td>\n      <td>-0.050424</td>\n      <td>0.076268</td>\n      <td>0.084167</td>\n      <td>-0.066642</td>\n      <td>-0.075676</td>\n      <td>0.007183</td>\n      <td>0.004167</td>\n      <td>...</td>\n      <td>-0.047328</td>\n      <td>0.011887</td>\n      <td>0.045584</td>\n      <td>-0.095344</td>\n      <td>-0.046187</td>\n      <td>-0.013920</td>\n      <td>0.058166</td>\n      <td>0.080757</td>\n      <td>-0.035608</td>\n      <td>-0.079485</td>\n    </tr>\n    <tr>\n      <th>...</th>\n      <td>...</td>\n      <td>...</td>\n      <td>...</td>\n      <td>...</td>\n      <td>...</td>\n      <td>...</td>\n      <td>...</td>\n      <td>...</td>\n      <td>...</td>\n      <td>...</td>\n      <td>...</td>\n      <td>...</td>\n      <td>...</td>\n      <td>...</td>\n      <td>...</td>\n      <td>...</td>\n      <td>...</td>\n      <td>...</td>\n      <td>...</td>\n      <td>...</td>\n      <td>...</td>\n    </tr>\n    <tr>\n      <th>27608</th>\n      <td>0.098486</td>\n      <td>0.088853</td>\n      <td>-0.037835</td>\n      <td>0.003361</td>\n      <td>0.063498</td>\n      <td>0.007424</td>\n      <td>-0.092991</td>\n      <td>-0.020758</td>\n      <td>-0.038182</td>\n      <td>0.072172</td>\n      <td>...</td>\n      <td>-0.022816</td>\n      <td>0.018359</td>\n      <td>-0.001666</td>\n      <td>-0.104142</td>\n      <td>-0.002567</td>\n      <td>-0.034314</td>\n      <td>-0.022658</td>\n      <td>0.019514</td>\n      <td>-0.027467</td>\n      <td>-0.017643</td>\n    </tr>\n    <tr>\n      <th>27609</th>\n      <td>0.071403</td>\n      <td>0.041933</td>\n      <td>-0.072913</td>\n      <td>-0.057438</td>\n      <td>0.053242</td>\n      <td>0.031240</td>\n      <td>-0.012613</td>\n      <td>-0.068559</td>\n      <td>0.054691</td>\n      <td>0.020997</td>\n      <td>...</td>\n      <td>-0.019658</td>\n      <td>-0.006556</td>\n      <td>0.027266</td>\n      <td>-0.119164</td>\n      <td>0.067799</td>\n      <td>-0.033114</td>\n      <td>-0.026850</td>\n      <td>0.026912</td>\n      <td>-0.012444</td>\n      <td>-0.065456</td>\n    </tr>\n    <tr>\n      <th>27610</th>\n      <td>0.079193</td>\n      <td>0.133584</td>\n      <td>-0.008277</td>\n      <td>-0.070901</td>\n      <td>-0.027032</td>\n      <td>0.030401</td>\n      <td>-0.054506</td>\n      <td>-0.066861</td>\n      <td>-0.033710</td>\n      <td>0.005780</td>\n      <td>...</td>\n      <td>0.000569</td>\n      <td>0.039144</td>\n      <td>0.025821</td>\n      <td>-0.097194</td>\n      <td>-0.029425</td>\n      <td>-0.065729</td>\n      <td>-0.034672</td>\n      <td>0.096773</td>\n      <td>-0.022264</td>\n      <td>0.054233</td>\n    </tr>\n    <tr>\n      <th>27611</th>\n      <td>0.062318</td>\n      <td>0.017251</td>\n      <td>0.005729</td>\n      <td>-0.045289</td>\n      <td>-0.022365</td>\n      <td>0.065160</td>\n      <td>-0.000180</td>\n      <td>-0.095808</td>\n      <td>0.061831</td>\n      <td>0.077503</td>\n      <td>...</td>\n      <td>-0.004482</td>\n      <td>0.101957</td>\n      <td>0.027510</td>\n      <td>-0.113784</td>\n      <td>-0.121483</td>\n      <td>0.044399</td>\n      <td>0.029965</td>\n      <td>0.122596</td>\n      <td>-0.014552</td>\n      <td>-0.064757</td>\n    </tr>\n    <tr>\n      <th>27612</th>\n      <td>0.067348</td>\n      <td>-0.038959</td>\n      <td>-0.022787</td>\n      <td>-0.062009</td>\n      <td>0.031355</td>\n      <td>-0.009164</td>\n      <td>-0.062491</td>\n      <td>-0.088384</td>\n      <td>-0.054517</td>\n      <td>0.002513</td>\n      <td>...</td>\n      <td>-0.018229</td>\n      <td>0.038477</td>\n      <td>0.091520</td>\n      <td>-0.091387</td>\n      <td>-0.130647</td>\n      <td>-0.045598</td>\n      <td>0.035948</td>\n      <td>0.134672</td>\n      <td>0.024764</td>\n      <td>-0.050316</td>\n    </tr>\n  </tbody>\n</table>\n<p>27613 rows × 1024 columns</p>\n</div>"
     },
     "execution_count": 12,
     "metadata": {},
     "output_type": "execute_result"
    }
   ],
   "source": [
    "all_K_feature"
   ],
   "metadata": {
    "collapsed": false,
    "ExecuteTime": {
     "end_time": "2024-01-24T07:59:40.086582Z",
     "start_time": "2024-01-24T07:59:39.970342Z"
    }
   }
  },
  {
   "cell_type": "code",
   "execution_count": 13,
   "outputs": [
    {
     "data": {
      "text/plain": "array([1, 1, 1, ..., 0, 0, 0])"
     },
     "execution_count": 13,
     "metadata": {},
     "output_type": "execute_result"
    }
   ],
   "source": [
    "K_label"
   ],
   "metadata": {
    "collapsed": false,
    "ExecuteTime": {
     "end_time": "2024-01-24T08:00:01.620442Z",
     "start_time": "2024-01-24T08:00:01.614192Z"
    }
   }
  },
  {
   "cell_type": "code",
   "execution_count": 15,
   "outputs": [],
   "source": [
    "all_K_feature.to_csv('K_origin_x.csv', index=False)"
   ],
   "metadata": {
    "collapsed": false,
    "ExecuteTime": {
     "end_time": "2024-01-24T08:00:58.891767Z",
     "start_time": "2024-01-24T08:00:40.217836Z"
    }
   }
  },
  {
   "cell_type": "code",
   "execution_count": 16,
   "outputs": [],
   "source": [
    "np.savetxt('K_origin_y.csv', K_label, delimiter=',', fmt='%d')"
   ],
   "metadata": {
    "collapsed": false,
    "ExecuteTime": {
     "end_time": "2024-01-24T08:01:08.037344Z",
     "start_time": "2024-01-24T08:01:08.036825Z"
    }
   }
  },
  {
   "cell_type": "code",
   "execution_count": 1,
   "outputs": [
    {
     "name": "stdout",
     "output_type": "stream",
     "text": [
      "Counter({'K': 403, 'L': 221, 'A': 210, 'E': 192, 'S': 167, 'V': 154, 'R': 127, 'D': 125, 'I': 124, 'G': 123, 'T': 116, 'Q': 102, 'P': 85, 'N': 80, 'F': 72, 'M': 51, 'Y': 37, 'H': 30, 'C': 24, 'W': 14})\n"
     ]
    }
   ],
   "source": [
    "from collections import Counter\n",
    "import re\n",
    "\n",
    "def count_amino_acids_in_file(file_path):\n",
    "    amino_acid_counter = Counter()\n",
    "    with open(file_path, 'r') as file:\n",
    "        for line in file:\n",
    "            # Check if the line contains a sequence (and not a sequence header)\n",
    "            if not line.startswith('>'):\n",
    "                # Remove any non-letter characters (like newlines)\n",
    "                sequence = re.sub(r'\\W', '', line)\n",
    "                amino_acid_counter.update(sequence)\n",
    "    return amino_acid_counter\n",
    "\n",
    "file_path = 'test117Kp.txt'  # Replace with the actual file path\n",
    "amino_acid_counts = count_amino_acids_in_file(file_path)\n",
    "print(amino_acid_counts)\n"
   ],
   "metadata": {
    "collapsed": false,
    "ExecuteTime": {
     "end_time": "2024-01-24T10:59:15.755483Z",
     "start_time": "2024-01-24T10:59:15.688351Z"
    }
   }
  },
  {
   "cell_type": "code",
   "execution_count": 2,
   "outputs": [
    {
     "data": {
      "text/plain": "{'E': 1.0666666666666667,\n 'M': 0.2833333333333333,\n 'G': 0.6833333333333333,\n 'K': 2.238888888888889,\n 'V': 0.8555555555555555,\n 'Y': 0.20555555555555555,\n 'R': 0.7055555555555556,\n 'Q': 0.5666666666666667,\n 'D': 0.6944444444444444,\n 'S': 0.9277777777777778,\n 'I': 0.6888888888888889,\n 'A': 1.1666666666666667,\n 'W': 0.07777777777777778,\n 'T': 0.6444444444444445,\n 'F': 0.4,\n 'L': 1.2277777777777779,\n 'P': 0.4722222222222222,\n 'C': 0.13333333333333333,\n 'N': 0.4444444444444444,\n 'H': 0.16666666666666666}"
     },
     "execution_count": 2,
     "metadata": {},
     "output_type": "execute_result"
    }
   ],
   "source": [
    "from collections import Counter\n",
    "import re\n",
    "\n",
    "def count_amino_acids_in_file(file_path):\n",
    "    amino_acid_counter = Counter()\n",
    "    sequence_count = 0\n",
    "    with open(file_path, 'r') as file:\n",
    "        for line in file:\n",
    "            # Check if the line contains a sequence (and not a sequence header)\n",
    "            if not line.startswith('>'):\n",
    "                # Remove any non-letter characters (like newlines)\n",
    "                sequence = re.sub(r'\\W', '', line)\n",
    "                amino_acid_counter.update(sequence)\n",
    "                sequence_count += 1\n",
    "    return amino_acid_counter, sequence_count\n",
    "\n",
    "file_path = 'test117Kp.txt'  # File path\n",
    "amino_acid_counts, sequence_count = count_amino_acids_in_file(file_path)\n",
    "\n",
    "# Calculate average counts per sequence\n",
    "average_counts_per_sequence = {aa: count / sequence_count for aa, count in amino_acid_counts.items()}\n",
    "average_counts_per_sequence"
   ],
   "metadata": {
    "collapsed": false,
    "ExecuteTime": {
     "end_time": "2024-01-24T11:01:41.182868Z",
     "start_time": "2024-01-24T11:01:41.153372Z"
    }
   }
  },
  {
   "cell_type": "code",
   "execution_count": 4,
   "outputs": [
    {
     "data": {
      "text/plain": "{'R': 0.9833310928888291,\n 'N': 1.0190885871756956,\n 'A': 1.1463906439037506,\n 'E': 1.5967199892458663,\n 'I': 1.1727382712730205,\n 'L': 1.9069767441860466,\n 'K': 1.9287538647667697,\n 'Y': 0.6308643634897163,\n 'P': 0.9122193843258503,\n 'M': 0.4893130797150155,\n 'G': 1.0997445893265223,\n 'V': 1.2286597660975938,\n 'D': 1.2203253125420084,\n 'T': 1.175023524667294,\n 'S': 1.6155397230810593,\n 'H': 0.4938835865035623,\n 'Q': 0.9159833310928889,\n 'F': 0.7975534346014249,\n 'C': 0.38365371689743244,\n 'W': 0.2832369942196532}"
     },
     "execution_count": 4,
     "metadata": {},
     "output_type": "execute_result"
    }
   ],
   "source": [
    "from collections import Counter\n",
    "import re\n",
    "\n",
    "def count_amino_acids_in_file(file_path):\n",
    "    amino_acid_counter = Counter()\n",
    "    sequence_count = 0\n",
    "    with open(file_path, 'r') as file:\n",
    "        for line in file:\n",
    "            # Check if the line contains a sequence (and not a sequence header)\n",
    "            if not line.startswith('>'):\n",
    "                # Remove any non-letter characters (like newlines)\n",
    "                sequence = re.sub(r'\\W', '', line)\n",
    "                amino_acid_counter.update(sequence)\n",
    "                sequence_count += 1\n",
    "    return amino_acid_counter, sequence_count\n",
    "\n",
    "file_path = 'test7439Kn.txt'  # File path\n",
    "amino_acid_counts, sequence_count = count_amino_acids_in_file(file_path)\n",
    "\n",
    "# Calculate average counts per sequence\n",
    "average_counts_per_sequence = {aa: count / sequence_count for aa, count in amino_acid_counts.items()}\n",
    "average_counts_per_sequence"
   ],
   "metadata": {
    "collapsed": false,
    "ExecuteTime": {
     "end_time": "2024-01-24T11:02:24.248576Z",
     "start_time": "2024-01-24T11:02:24.242400Z"
    }
   }
  },
  {
   "cell_type": "code",
   "execution_count": null,
   "outputs": [],
   "source": [],
   "metadata": {
    "collapsed": false
   }
  }
 ],
 "metadata": {
  "kernelspec": {
   "display_name": "Python 3",
   "language": "python",
   "name": "python3"
  },
  "language_info": {
   "codemirror_mode": {
    "name": "ipython",
    "version": 2
   },
   "file_extension": ".py",
   "mimetype": "text/x-python",
   "name": "python",
   "nbconvert_exporter": "python",
   "pygments_lexer": "ipython2",
   "version": "2.7.6"
  }
 },
 "nbformat": 4,
 "nbformat_minor": 0
}
